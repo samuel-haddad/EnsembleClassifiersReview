{
  "nbformat": 4,
  "nbformat_minor": 0,
  "metadata": {
    "colab": {
      "name": "randonforrest.py",
      "provenance": [],
      "authorship_tag": "ABX9TyPxYaeX+B1Vc6rk4it2VuUm",
      "include_colab_link": true
    },
    "kernelspec": {
      "name": "python3",
      "display_name": "Python 3"
    },
    "language_info": {
      "name": "python"
    }
  },
  "cells": [
    {
      "cell_type": "markdown",
      "metadata": {
        "id": "view-in-github",
        "colab_type": "text"
      },
      "source": [
        "<a href=\"https://colab.research.google.com/github/samuel-haddad/EnsembleClassifiersReview/blob/main/randonforrest_py.ipynb\" target=\"_parent\"><img src=\"https://colab.research.google.com/assets/colab-badge.svg\" alt=\"Open In Colab\"/></a>"
      ]
    },
    {
      "cell_type": "code",
      "execution_count": 1,
      "metadata": {
        "id": "f5v0IqAaUPAU",
        "colab": {
          "base_uri": "https://localhost:8080/"
        },
        "outputId": "dae36507-8870-4429-a1de-6402a6ccddd6"
      },
      "outputs": [
        {
          "output_type": "stream",
          "name": "stdout",
          "text": [
            "Train score:  0.9983772819472616\n",
            "Accuracy: 0.782 (0.018)\n",
            "+ ----------------------------- MODEL STATISTICS ----------------------------- +\n",
            "Train dist: 26.27% | Test dist: 27.17%\n",
            "--------------------------------------------------------------------------------\n",
            "Accuracy: 79.46% | Precision: 67.24% | Recall: 47.56%\n",
            "--------------------------------------------------------------------------------\n",
            "AUC: 83.32% | F1: 55.71% | LL: -976.1931136729795\n",
            "+ ------------------------------------------------------------------------------ +\n",
            "[0.01823215 0.01799257 0.01487657 0.01554457 0.01251715 0.01249316\n",
            " 0.00285866 0.0027516  0.01289049 0.00329541 0.01270441 0.01163866\n",
            " 0.02569041 0.00235165 0.03284959 0.00259931 0.01199469 0.01844728\n",
            " 0.00212945 0.01273078 0.01349924 0.00070796 0.01269139 0.02644763\n",
            " 0.00522148 0.00960451 0.01173663 0.00173479 0.01061675 0.0117992\n",
            " 0.00284887 0.01190755 0.04098877 0.01046274 0.02164937 0.0149143\n",
            " 0.01558283 0.01233103 0.01278832 0.0305188  0.0118992  0.01927884\n",
            " 0.14161478 0.1376774  0.16488905]\n"
          ]
        }
      ],
      "source": [
        "'''\n",
        "Churn prediction: Randon Forrest Review\n",
        "> Author: Samuel Haddad Simões Machado\n",
        "> Date: apr/2022\n",
        "> Licence: Open Source\n",
        "'''\n",
        "\n",
        "# general libs\n",
        "import pandas as pd \n",
        "import numpy as np \n",
        "import seaborn as sns\n",
        "import matplotlib.pyplot as plt\n",
        "from numpy import mean\n",
        "from numpy import std\n",
        "\n",
        "# modeling libs\n",
        "from sklearn.model_selection import train_test_split\n",
        "from sklearn.model_selection import cross_val_score\n",
        "from sklearn.model_selection import RepeatedStratifiedKFold\n",
        "from sklearn.ensemble import RandomForestClassifier\n",
        "from sklearn import metrics\n",
        "from sklearn.metrics import roc_auc_score\n",
        "from sklearn.metrics import f1_score\n",
        "\n",
        "# preparation lib\n",
        "from sklearn.experimental import enable_iterative_imputer\n",
        "from sklearn.impute import IterativeImputer\n",
        "\n",
        "\n",
        "# import the dataset and create the dataframe\n",
        "df_churn = pd.read_csv('https://raw.githubusercontent.com/samuel-haddad/TreeClassifiersReview/main/WA_Fn-UseC_-Telco-Customer-Churn.csv', delimiter=',')\n",
        "\n",
        "#copy df\n",
        "df_prep = df_churn.copy()\n",
        "\n",
        "df_prep['TotalCharges'].replace(r'^\\s*$', np.nan, regex=True, inplace=True)\n",
        "\n",
        "df_prep['TotalCharges'] = pd.to_numeric(df_prep['TotalCharges'])\n",
        "\n",
        "#df_prep.loc[:, ['TotalCharges']].replace (r'\\s+', np.nan, regex = True, inplace = True)\n",
        "\n",
        "#imp\n",
        "imp = IterativeImputer(max_iter=10, random_state=0)\n",
        "imp.fit(df_prep[['TotalCharges']])\n",
        "\n",
        "#transform\n",
        "df_ii = imp.transform(df_prep[['TotalCharges']])\n",
        "\n",
        "#replace\n",
        "df_prep[['TotalCharges']] = df_ii\n",
        "df_churn_gold = df_prep\n",
        "\n",
        "# dummization\n",
        "df_churn_gold['Churn'].replace({'No':0, 'Yes':1}, inplace=True)\n",
        "df_dummies = pd.get_dummies(df_churn_gold.drop(['customerID','SeniorCitizen', 'tenure','MonthlyCharges', 'TotalCharges', 'Churn'], axis=1))\n",
        "df = pd.concat([df_dummies, df_churn_gold[['SeniorCitizen', 'tenure','MonthlyCharges', 'TotalCharges', 'Churn']]], axis=1)\n",
        "\n",
        "\n",
        "# extract the explanatory variables\n",
        "X, y = df.drop('Churn', axis=1), df['Churn']\n",
        "X_train, X_test, y_train, y_test = train_test_split(X, y, test_size=0.3, random_state=42)\n",
        "\n",
        "# define the model\n",
        "clf = RandomForestClassifier(oob_score = True, random_state=42, warm_start = True)\n",
        "\n",
        "# training the model\n",
        "clf.fit(X_train, y_train)\n",
        "score = clf.score(X_train, y_train)\n",
        "print(\"Train score: \", score)\n",
        "\n",
        "# evaluate the model\n",
        "cv = RepeatedStratifiedKFold(n_splits=10, n_repeats=3, random_state=42)\n",
        "n_scores = cross_val_score(clf, X_train, y_train, scoring='accuracy', cv=cv, n_jobs=-1, error_score='raise')\n",
        "\n",
        "# report performance\n",
        "print('Accuracy: %.3f (%.3f)' % (mean(n_scores), std(n_scores)))\n",
        "\n",
        "y_pred = clf.predict(X_test)\n",
        "\n",
        "# compare train & test distribuition\n",
        "y_train_dist = y_train.sum()/len(y_train)\n",
        "y_test_dist = y_test.sum()/len(y_test)\n",
        "\n",
        "# statistics\n",
        "print('+',29*'-','MODEL STATISTICS',29*'-','+')\n",
        "print('Train dist: {}%'.format(round(y_train_dist*100, 2))\n",
        "        ,'| Test dist: {}%'.format(round(y_test_dist*100, 2)))\n",
        "print(80*'-')\n",
        "print(\"Accuracy: {}%\".format((metrics.accuracy_score(y_test, y_pred)*100).round(2))\n",
        "        ,\"| Precision: {}%\".format((metrics.precision_score(y_test, y_pred)*100).round(2))\n",
        "        ,\"| Recall: {}%\".format((metrics.recall_score(y_test, y_pred)*100).round(2)))\n",
        "print(80*'-')\n",
        "print(\"AUC: {}%\".format((roc_auc_score(y_test, clf.predict_proba(X_test)[:,1])*100).round(2))\n",
        "        ,\"| F1: {}%\".format(((f1_score(y_test, y_pred))*100).round(2))\n",
        "        ,'| LL: {}'.format(-metrics.log_loss(y_test, clf.predict_proba(X_test), normalize=False)))\n",
        "print('+',78*'-','+')\n",
        "print(clf.feature_importances_)"
      ]
    },
    {
      "cell_type": "code",
      "source": [
        ""
      ],
      "metadata": {
        "id": "grAaVpSk9lMf"
      },
      "execution_count": null,
      "outputs": []
    }
  ]
}